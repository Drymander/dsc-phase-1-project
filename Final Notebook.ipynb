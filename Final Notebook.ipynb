{
 "cells": [
  {
   "cell_type": "markdown",
   "metadata": {},
   "source": [
    "# Microsoft Films Industry Analysis"
   ]
  },
  {
   "cell_type": "markdown",
   "metadata": {},
   "source": [
    "## Overview"
   ]
  },
  {
   "cell_type": "markdown",
   "metadata": {},
   "source": [
    "This project analyzes theatrical films with intention of guiding Microsoft through the launch of its new film studio.  The results of these analyses will yield actionable insights that Microsoft's new studio head can use to determine what types of films to develop."
   ]
  },
  {
   "cell_type": "markdown",
   "metadata": {},
   "source": [
    "### Business Problem"
   ]
  },
  {
   "cell_type": "markdown",
   "metadata": {},
   "source": [
    "Releasing movies is a daunting endeavor.  Not only will it require millions, if not hundreds of millions of dollars to fund wide theatrical releases, it will also require a deep understanding of what today's audiences are willing to watch.  Before sending films into production, we need to know what genre of film people are willing to see how we can ensure that audiences have an opportunity to see the film."
   ]
  },
  {
   "cell_type": "markdown",
   "metadata": {},
   "source": [
    "### Data Understanding"
   ]
  },
  {
   "cell_type": "markdown",
   "metadata": {},
   "source": [
    "Without years of experience in the industry, our best bet will be to take a look at a large yet targeted sample of theatrical releases.  There are many websites dedicated to box office and film data.  For this project, we will source our data using The Movie Databse's API.\n",
    "\n",
    "TMDB offers a sound and comprehensive dataset that will be a good foundation for our initial research.  The site has detailed information on over 500,000 theatrical releases throughout history.  While it would be interesting to analyze every film in the database, it would be more apt to target our research in the direction of films that Microsoft is likely to produce.\n",
    "\n",
    "This project assumes a few things:\n",
    "- Microsoft is a for profit organization and will be interested in making movies that have a broad market appeal.\n",
    "- At the beginning of this venture, be focused exclusively on wide releases, and will not enter films into the festival circuit.\n",
    "- While it is generally preferable to release movies that are highly acclaimed, Microsoft will use historical production budget and box office revenue to indicate success.  In other words, we believe that movie goers will vote on what they like with their wallets."
   ]
  },
  {
   "cell_type": "markdown",
   "metadata": {},
   "source": [
    "## Data Intake"
   ]
  },
  {
   "cell_type": "markdown",
   "metadata": {},
   "source": [
    "Before collecting data, we will want to import a selection of Python packages.\n",
    "\n",
    "Note - a variable called 'scrape' has been implemented to prevent scraping.  When set to 'True,' it will perform the full scrape.  When set to 'False,' it will skip the scraping steps.  Code has been implemented to use datasets stored in the git repository, but these databases were originally sourced using the TMDB API."
   ]
  },
  {
   "cell_type": "code",
   "execution_count": null,
   "metadata": {},
   "outputs": [],
   "source": []
  },
  {
   "cell_type": "code",
   "execution_count": 291,
   "metadata": {},
   "outputs": [],
   "source": [
    "import requests\n",
    "import pandas as pd\n",
    "import matplotlib.pyplot as plt\n",
    "%matplotlib inline\n",
    "import seaborn as sns\n",
    "import numpy as np\n",
    "\n",
    "api_key = '64bc8db1ac9143a7dbb820d7d420ac96'\n",
    "\n",
    "scrape = False"
   ]
  },
  {
   "cell_type": "markdown",
   "metadata": {},
   "source": [
    "First, we will use the TMDB API to pull movies using our initial filters, which have been applied when considering Microsoft's goals:\n",
    "\n",
    "- Release year (2012-2019) - audience taste and movie trends continue to evolve.  We want to focus on the post Avengers era, which began in 2012.  While franchise movies have been popular since the early 2000s, The Avengers marked the beginning of series based films.  While Marvel has had the most success with this format, many other studios have been trying to utilize their own intellectual property in an attempt to replicate Disney's success.  Also, 2020 was removed from the analysis due to the dramatic impact that the pandemic had on box office revenues.  It would be appropriate to resume analysis when theaters are allowed to screen nationwide in full capacity and when audiences feel comfortable returning to theaters.\n",
    "- Original language (English) - Microsoft will likely be making films in the English language.  It is possible that this could change with international revenues representing a larger proportion of overall box office returns.  Also, in earlier tests with the API, we found that TMDB has a large collection of movies that are not targeted for global audiences.\n",
    "- Runtime (greater than 80 minutes) - TMDB also contains a wealth of shorter films.  'Feature length' is generally defined as 90 mintues or longer.  We lowered our requirement to 80 minutes to account for movies that are still considered 'feature length,' but fall just shy of the rule of thumb.\n",
    "- Release type (3) - TMDB tracks movies that released in 'premiere' or 'limited' format.  These represent movies that are released in a relatively small amount of theaters.  Microsoft will likely want to target broad audiences, which is best represented by release type 3 ('Theatrical).  An explanation of 'Theatrical' can be found here: https://developers.themoviedb.org/3/movies/get-movie-release-dates, and the code indicating that '3' is the appropriate release type for the API can be found here: https://developers.themoviedb.org/3/movies/get-movie-release-dates."
   ]
  },
  {
   "cell_type": "code",
   "execution_count": 292,
   "metadata": {},
   "outputs": [
    {
     "name": "stdout",
     "output_type": "stream",
     "text": [
      "Scrape is set to False.\n"
     ]
    }
   ],
   "source": [
    "if scrape == True:\n",
    "\n",
    "    results = []\n",
    "\n",
    "    for year in [2012, 2013, 2014, 2015, 2016, 2017, 2018, 2019]:\n",
    "\n",
    "        page_number = 1\n",
    "\n",
    "        response = requests.get('https://api.themoviedb.org/3/discover/movie?api_key=' \n",
    "                                 +  api_key + '&page=' + str(page_number) + \n",
    "                                 '&with_original_language=en&primary_release_year=' + str(year) + '&with_release_type=3&with_runtime.gte=80')\n",
    "\n",
    "        total_pages = response.json()['total_pages']\n",
    "        # total_pages = 5\n",
    "\n",
    "        results.extend(response.json()['results'])\n",
    "\n",
    "        while page_number < total_pages:\n",
    "\n",
    "            page_number += 1\n",
    "\n",
    "            response = requests.get('https://api.themoviedb.org/3/discover/movie?api_key=' \n",
    "                                 +  api_key + '&page=' + str(page_number) + \n",
    "                                 '&with_original_language=en&primary_release_year=' + str(year) + '&with_release_type=3&with_runtime.gte=80')\n",
    "\n",
    "            results.extend(response.json()['results'])\n",
    "            \n",
    "else: print('Scrape is set to False.')"
   ]
  },
  {
   "cell_type": "markdown",
   "metadata": {},
   "source": [
    "We will also be using a python wrapper called \"tmdbsimple,\" which will allow more intuitive coding for scraping later in the notebook."
   ]
  },
  {
   "cell_type": "code",
   "execution_count": 293,
   "metadata": {},
   "outputs": [],
   "source": [
    "# pip install tmdbsimple\n",
    "import tmdbsimple as tmdb\n",
    "tmdb.API_KEY = api_key"
   ]
  },
  {
   "cell_type": "code",
   "execution_count": 294,
   "metadata": {},
   "outputs": [],
   "source": [
    "#Importing via CSV to avoid large scrape\n",
    "\n",
    "df = pd.read_csv('2012-2019.csv')"
   ]
  },
  {
   "cell_type": "code",
   "execution_count": 295,
   "metadata": {},
   "outputs": [
    {
     "data": {
      "text/html": [
       "<div>\n",
       "<style scoped>\n",
       "    .dataframe tbody tr th:only-of-type {\n",
       "        vertical-align: middle;\n",
       "    }\n",
       "\n",
       "    .dataframe tbody tr th {\n",
       "        vertical-align: top;\n",
       "    }\n",
       "\n",
       "    .dataframe thead th {\n",
       "        text-align: right;\n",
       "    }\n",
       "</style>\n",
       "<table border=\"1\" class=\"dataframe\">\n",
       "  <thead>\n",
       "    <tr style=\"text-align: right;\">\n",
       "      <th></th>\n",
       "      <th>Unnamed: 0</th>\n",
       "      <th>adult</th>\n",
       "      <th>backdrop_path</th>\n",
       "      <th>genre_ids</th>\n",
       "      <th>id</th>\n",
       "      <th>original_language</th>\n",
       "      <th>original_title</th>\n",
       "      <th>overview</th>\n",
       "      <th>popularity</th>\n",
       "      <th>poster_path</th>\n",
       "      <th>release_date</th>\n",
       "      <th>title</th>\n",
       "      <th>video</th>\n",
       "      <th>vote_average</th>\n",
       "      <th>vote_count</th>\n",
       "    </tr>\n",
       "  </thead>\n",
       "  <tbody>\n",
       "    <tr>\n",
       "      <th>0</th>\n",
       "      <td>0</td>\n",
       "      <td>False</td>\n",
       "      <td>/kwUQFeFXOOpgloMgZaadhzkbTI4.jpg</td>\n",
       "      <td>[878, 28, 12]</td>\n",
       "      <td>24428</td>\n",
       "      <td>en</td>\n",
       "      <td>The Avengers</td>\n",
       "      <td>When an unexpected enemy emerges and threatens...</td>\n",
       "      <td>151.095</td>\n",
       "      <td>/RYMX2wcKCBAr24UyPD7xwmjaTn.jpg</td>\n",
       "      <td>4/25/2012</td>\n",
       "      <td>The Avengers</td>\n",
       "      <td>False</td>\n",
       "      <td>7.7</td>\n",
       "      <td>24245</td>\n",
       "    </tr>\n",
       "    <tr>\n",
       "      <th>1</th>\n",
       "      <td>1</td>\n",
       "      <td>False</td>\n",
       "      <td>/qkl57wzSFrpi2sRpoc2mZJbMuLP.jpg</td>\n",
       "      <td>[12, 14, 18, 10749]</td>\n",
       "      <td>50620</td>\n",
       "      <td>en</td>\n",
       "      <td>The Twilight Saga: Breaking Dawn - Part 2</td>\n",
       "      <td>After the birth of Renesmee, the Cullens gathe...</td>\n",
       "      <td>73.226</td>\n",
       "      <td>/jHE7WUf3FDod8vw3O3twh0JVZun.jpg</td>\n",
       "      <td>11/13/2012</td>\n",
       "      <td>The Twilight Saga: Breaking Dawn - Part 2</td>\n",
       "      <td>False</td>\n",
       "      <td>6.5</td>\n",
       "      <td>6978</td>\n",
       "    </tr>\n",
       "    <tr>\n",
       "      <th>2</th>\n",
       "      <td>2</td>\n",
       "      <td>False</td>\n",
       "      <td>/ziC23LkMYj8gToQQYQGWSGJCLNF.jpg</td>\n",
       "      <td>[10751, 16, 35, 12]</td>\n",
       "      <td>82690</td>\n",
       "      <td>en</td>\n",
       "      <td>Wreck-It Ralph</td>\n",
       "      <td>Wreck-It Ralph is the 9-foot-tall, 643-pound v...</td>\n",
       "      <td>70.213</td>\n",
       "      <td>/nsUAgWCxqbTD9wkKrv3nBGH2DVk.jpg</td>\n",
       "      <td>11/1/2012</td>\n",
       "      <td>Wreck-It Ralph</td>\n",
       "      <td>False</td>\n",
       "      <td>7.3</td>\n",
       "      <td>9689</td>\n",
       "    </tr>\n",
       "  </tbody>\n",
       "</table>\n",
       "</div>"
      ],
      "text/plain": [
       "   Unnamed: 0  adult                     backdrop_path            genre_ids  \\\n",
       "0           0  False  /kwUQFeFXOOpgloMgZaadhzkbTI4.jpg        [878, 28, 12]   \n",
       "1           1  False  /qkl57wzSFrpi2sRpoc2mZJbMuLP.jpg  [12, 14, 18, 10749]   \n",
       "2           2  False  /ziC23LkMYj8gToQQYQGWSGJCLNF.jpg  [10751, 16, 35, 12]   \n",
       "\n",
       "      id original_language                             original_title  \\\n",
       "0  24428                en                               The Avengers   \n",
       "1  50620                en  The Twilight Saga: Breaking Dawn - Part 2   \n",
       "2  82690                en                             Wreck-It Ralph   \n",
       "\n",
       "                                            overview  popularity  \\\n",
       "0  When an unexpected enemy emerges and threatens...     151.095   \n",
       "1  After the birth of Renesmee, the Cullens gathe...      73.226   \n",
       "2  Wreck-It Ralph is the 9-foot-tall, 643-pound v...      70.213   \n",
       "\n",
       "                        poster_path release_date  \\\n",
       "0   /RYMX2wcKCBAr24UyPD7xwmjaTn.jpg    4/25/2012   \n",
       "1  /jHE7WUf3FDod8vw3O3twh0JVZun.jpg   11/13/2012   \n",
       "2  /nsUAgWCxqbTD9wkKrv3nBGH2DVk.jpg    11/1/2012   \n",
       "\n",
       "                                       title  video  vote_average  vote_count  \n",
       "0                               The Avengers  False           7.7       24245  \n",
       "1  The Twilight Saga: Breaking Dawn - Part 2  False           6.5        6978  \n",
       "2                             Wreck-It Ralph  False           7.3        9689  "
      ]
     },
     "execution_count": 295,
     "metadata": {},
     "output_type": "execute_result"
    }
   ],
   "source": [
    "df.head(3)"
   ]
  },
  {
   "cell_type": "markdown",
   "metadata": {},
   "source": [
    "Previewing our results, we find useful information, but we're missing a few key pieces of data that we will want to explore in our analysis.  For our analysis, we will also want information on movie production budget, global box office revenue, and MPAA rating.  Budget and revenue will allow us to examine profitability, and MPAA rating will be analyzed later in the notebook.\n",
    "\n",
    "This script uses the TMDB API to loop through every movie in our dataset and pull additional movie details."
   ]
  },
  {
   "cell_type": "code",
   "execution_count": 296,
   "metadata": {},
   "outputs": [
    {
     "name": "stdout",
     "output_type": "stream",
     "text": [
      "Scrape is set to False.\n"
     ]
    }
   ],
   "source": [
    "if scrape == True:\n",
    "\n",
    "    df_ids = df['id']\n",
    "\n",
    "    full_movies = []\n",
    "\n",
    "    for idx in df_ids:\n",
    "        movie = tmdb.Movies(idx)\n",
    "\n",
    "        movie_dic = {}\n",
    "\n",
    "        movie_dic.update(movie.info())\n",
    "\n",
    "        movie.releases()\n",
    "        for c in movie.countries:\n",
    "            if c['iso_3166_1'] == 'US':\n",
    "                certification = c['certification']\n",
    "    #         else:\n",
    "    #             certification = 'None'\n",
    "\n",
    "        movie_dic.update({'mpaa_rating' : str(certification)})\n",
    "\n",
    "        full_movies.append(movie_dic)\n",
    "\n",
    "    df_full = pd.DataFrame(full_movies)\n",
    "\n",
    "    df_full.to_csv('2012-2019 FULL.csv')\n",
    "    \n",
    "else: print('Scrape is set to False.')\n",
    "    \n",
    "#### 293471 & 437584 didn't work, make sure to write how i worked around"
   ]
  },
  {
   "cell_type": "code",
   "execution_count": 297,
   "metadata": {},
   "outputs": [
    {
     "name": "stdout",
     "output_type": "stream",
     "text": [
      "(18846, 27)\n"
     ]
    },
    {
     "data": {
      "text/html": [
       "<div>\n",
       "<style scoped>\n",
       "    .dataframe tbody tr th:only-of-type {\n",
       "        vertical-align: middle;\n",
       "    }\n",
       "\n",
       "    .dataframe tbody tr th {\n",
       "        vertical-align: top;\n",
       "    }\n",
       "\n",
       "    .dataframe thead th {\n",
       "        text-align: right;\n",
       "    }\n",
       "</style>\n",
       "<table border=\"1\" class=\"dataframe\">\n",
       "  <thead>\n",
       "    <tr style=\"text-align: right;\">\n",
       "      <th></th>\n",
       "      <th>Unnamed: 0</th>\n",
       "      <th>adult</th>\n",
       "      <th>backdrop_path</th>\n",
       "      <th>belongs_to_collection</th>\n",
       "      <th>budget</th>\n",
       "      <th>genres</th>\n",
       "      <th>homepage</th>\n",
       "      <th>id</th>\n",
       "      <th>imdb_id</th>\n",
       "      <th>original_language</th>\n",
       "      <th>...</th>\n",
       "      <th>revenue</th>\n",
       "      <th>runtime</th>\n",
       "      <th>spoken_languages</th>\n",
       "      <th>status</th>\n",
       "      <th>tagline</th>\n",
       "      <th>title</th>\n",
       "      <th>video</th>\n",
       "      <th>vote_average</th>\n",
       "      <th>vote_count</th>\n",
       "      <th>mpaa_rating</th>\n",
       "    </tr>\n",
       "  </thead>\n",
       "  <tbody>\n",
       "    <tr>\n",
       "      <th>0</th>\n",
       "      <td>0</td>\n",
       "      <td>False</td>\n",
       "      <td>/kwUQFeFXOOpgloMgZaadhzkbTI4.jpg</td>\n",
       "      <td>{'id': 86311, 'name': 'The Avengers Collection...</td>\n",
       "      <td>220000000</td>\n",
       "      <td>[{'id': 878, 'name': 'Science Fiction'}, {'id'...</td>\n",
       "      <td>http://marvel.com/avengers_movie/</td>\n",
       "      <td>24428</td>\n",
       "      <td>tt0848228</td>\n",
       "      <td>en</td>\n",
       "      <td>...</td>\n",
       "      <td>1518815515</td>\n",
       "      <td>143.0</td>\n",
       "      <td>[{'english_name': 'English', 'iso_639_1': 'en'...</td>\n",
       "      <td>Released</td>\n",
       "      <td>Some assembly required.</td>\n",
       "      <td>The Avengers</td>\n",
       "      <td>False</td>\n",
       "      <td>7.7</td>\n",
       "      <td>24252</td>\n",
       "      <td>PG-13</td>\n",
       "    </tr>\n",
       "    <tr>\n",
       "      <th>1</th>\n",
       "      <td>1</td>\n",
       "      <td>False</td>\n",
       "      <td>/qkl57wzSFrpi2sRpoc2mZJbMuLP.jpg</td>\n",
       "      <td>{'id': 33514, 'name': 'The Twilight Collection...</td>\n",
       "      <td>120000000</td>\n",
       "      <td>[{'id': 12, 'name': 'Adventure'}, {'id': 14, '...</td>\n",
       "      <td>NaN</td>\n",
       "      <td>50620</td>\n",
       "      <td>tt1673434</td>\n",
       "      <td>en</td>\n",
       "      <td>...</td>\n",
       "      <td>829000000</td>\n",
       "      <td>115.0</td>\n",
       "      <td>[{'english_name': 'English', 'iso_639_1': 'en'...</td>\n",
       "      <td>Released</td>\n",
       "      <td>The epic finale that will live forever.</td>\n",
       "      <td>The Twilight Saga: Breaking Dawn - Part 2</td>\n",
       "      <td>False</td>\n",
       "      <td>6.5</td>\n",
       "      <td>6978</td>\n",
       "      <td>PG-13</td>\n",
       "    </tr>\n",
       "    <tr>\n",
       "      <th>2</th>\n",
       "      <td>2</td>\n",
       "      <td>False</td>\n",
       "      <td>/ziC23LkMYj8gToQQYQGWSGJCLNF.jpg</td>\n",
       "      <td>{'id': 404825, 'name': 'Wreck-It Ralph Collect...</td>\n",
       "      <td>165000000</td>\n",
       "      <td>[{'id': 10751, 'name': 'Family'}, {'id': 16, '...</td>\n",
       "      <td>http://disney.go.com/wreck-it-ralph</td>\n",
       "      <td>82690</td>\n",
       "      <td>tt1772341</td>\n",
       "      <td>en</td>\n",
       "      <td>...</td>\n",
       "      <td>471222889</td>\n",
       "      <td>101.0</td>\n",
       "      <td>[{'english_name': 'English', 'iso_639_1': 'en'...</td>\n",
       "      <td>Released</td>\n",
       "      <td>The story of a regular guy just looking for a ...</td>\n",
       "      <td>Wreck-It Ralph</td>\n",
       "      <td>False</td>\n",
       "      <td>7.3</td>\n",
       "      <td>9690</td>\n",
       "      <td>PG</td>\n",
       "    </tr>\n",
       "  </tbody>\n",
       "</table>\n",
       "<p>3 rows × 27 columns</p>\n",
       "</div>"
      ],
      "text/plain": [
       "   Unnamed: 0  adult                     backdrop_path  \\\n",
       "0           0  False  /kwUQFeFXOOpgloMgZaadhzkbTI4.jpg   \n",
       "1           1  False  /qkl57wzSFrpi2sRpoc2mZJbMuLP.jpg   \n",
       "2           2  False  /ziC23LkMYj8gToQQYQGWSGJCLNF.jpg   \n",
       "\n",
       "                               belongs_to_collection     budget  \\\n",
       "0  {'id': 86311, 'name': 'The Avengers Collection...  220000000   \n",
       "1  {'id': 33514, 'name': 'The Twilight Collection...  120000000   \n",
       "2  {'id': 404825, 'name': 'Wreck-It Ralph Collect...  165000000   \n",
       "\n",
       "                                              genres  \\\n",
       "0  [{'id': 878, 'name': 'Science Fiction'}, {'id'...   \n",
       "1  [{'id': 12, 'name': 'Adventure'}, {'id': 14, '...   \n",
       "2  [{'id': 10751, 'name': 'Family'}, {'id': 16, '...   \n",
       "\n",
       "                              homepage     id    imdb_id original_language  \\\n",
       "0    http://marvel.com/avengers_movie/  24428  tt0848228                en   \n",
       "1                                  NaN  50620  tt1673434                en   \n",
       "2  http://disney.go.com/wreck-it-ralph  82690  tt1772341                en   \n",
       "\n",
       "   ...     revenue runtime                                   spoken_languages  \\\n",
       "0  ...  1518815515   143.0  [{'english_name': 'English', 'iso_639_1': 'en'...   \n",
       "1  ...   829000000   115.0  [{'english_name': 'English', 'iso_639_1': 'en'...   \n",
       "2  ...   471222889   101.0  [{'english_name': 'English', 'iso_639_1': 'en'...   \n",
       "\n",
       "     status                                            tagline  \\\n",
       "0  Released                            Some assembly required.   \n",
       "1  Released            The epic finale that will live forever.   \n",
       "2  Released  The story of a regular guy just looking for a ...   \n",
       "\n",
       "                                       title  video  vote_average  vote_count  \\\n",
       "0                               The Avengers  False           7.7       24252   \n",
       "1  The Twilight Saga: Breaking Dawn - Part 2  False           6.5        6978   \n",
       "2                             Wreck-It Ralph  False           7.3        9690   \n",
       "\n",
       "  mpaa_rating  \n",
       "0       PG-13  \n",
       "1       PG-13  \n",
       "2          PG  \n",
       "\n",
       "[3 rows x 27 columns]"
      ]
     },
     "execution_count": 297,
     "metadata": {},
     "output_type": "execute_result"
    }
   ],
   "source": [
    "#Importing via CSV to avoid large scrape\n",
    "\n",
    "df_full = pd.read_csv('2012-2019 FULL.csv')\n",
    "\n",
    "df = df_full\n",
    "\n",
    "print(df.shape)\n",
    "\n",
    "df.head(3)"
   ]
  },
  {
   "cell_type": "markdown",
   "metadata": {},
   "source": [
    "Now that we have pulled everything we need from TMDB, we will want to continue refining our dataset.  Let's take a look at the columns to better understand what types of data we can examine."
   ]
  },
  {
   "cell_type": "code",
   "execution_count": 298,
   "metadata": {},
   "outputs": [
    {
     "name": "stdout",
     "output_type": "stream",
     "text": [
      "['Unnamed: 0', 'adult', 'backdrop_path', 'belongs_to_collection', 'budget', 'genres', 'homepage', 'id', 'imdb_id', 'original_language', 'original_title', 'overview', 'popularity', 'poster_path', 'production_companies', 'production_countries', 'release_date', 'revenue', 'runtime', 'spoken_languages', 'status', 'tagline', 'title', 'video', 'vote_average', 'vote_count', 'mpaa_rating']\n"
     ]
    }
   ],
   "source": [
    "#https://datatofish.com/list-column-names-pandas-dataframe/\n",
    "\n",
    "column_list = df.columns.values.tolist()\n",
    "\n",
    "print(column_list)\n",
    "\n"
   ]
  },
  {
   "cell_type": "markdown",
   "metadata": {},
   "source": [
    "Most of these columns can be useful in future analyses, but for now, let's select only the columns we'll need for this project."
   ]
  },
  {
   "cell_type": "code",
   "execution_count": 299,
   "metadata": {},
   "outputs": [
    {
     "data": {
      "text/plain": [
       "(18846, 12)"
      ]
     },
     "execution_count": 299,
     "metadata": {},
     "output_type": "execute_result"
    }
   ],
   "source": [
    "# df.drop(columns=[columns_to_drop], inplace=True)\n",
    "\n",
    "df = df[['release_date', 'original_title', 'id', 'budget', 'revenue', 'mpaa_rating', \n",
    "    'genres', 'popularity', 'vote_average', 'vote_count', 'runtime', \n",
    "    'production_companies']]\n",
    "\n",
    "df.shape"
   ]
  },
  {
   "cell_type": "markdown",
   "metadata": {},
   "source": [
    "Now, we'll want to remove movies that will not be comparable to Microsoft's wide theatrical release strategy.  In analyzing some examples, we find that many movies have very low budgets (likely independent films) or zero for revenue.  For budget, we will assume that Microsoft will spend at least $1,000,000 (and likely much more) on every film they produce.  \n",
    "\n",
    "Upon closer examination of the $0 revenue movies, we find cases where TMDB data isn't airtight and other off examples like Netflix movies that technically released in theaters, but revenue might not have been widely reported.  Even "
   ]
  },
  {
   "cell_type": "code",
   "execution_count": 300,
   "metadata": {},
   "outputs": [
    {
     "name": "stdout",
     "output_type": "stream",
     "text": [
      "(1365, 12)\n"
     ]
    }
   ],
   "source": [
    "df = df.loc[df['budget'] >= 1000000] #budget greater than $1mm\n",
    "df = df.loc[df['revenue'] != 0] #revenue greater than 0, movies with zero indicate no 'real' release\n",
    "\n",
    "print(df.shape)"
   ]
  },
  {
   "cell_type": "markdown",
   "metadata": {},
   "source": [
    "# Production Budget and Box Office Revenue"
   ]
  },
  {
   "cell_type": "markdown",
   "metadata": {},
   "source": [
    "Our dataframe is ready for analysis!\n",
    "\n",
    "To start, we will take a look at how many films were successful, and how many films failed.  For the purposes of this analysis, \"success\" will be defined as any movie whose box office revenue exceeded its production budget.  Any movie that failed to recoup its budget with box office revenue will be deemd a \"flop.\"\n",
    "\n",
    "We have budget and revenue already, so let's calculate profit using these two fields."
   ]
  },
  {
   "cell_type": "code",
   "execution_count": 302,
   "metadata": {},
   "outputs": [
    {
     "ename": "ValueError",
     "evalue": "cannot insert profit, already exists",
     "output_type": "error",
     "traceback": [
      "\u001b[1;31m---------------------------------------------------------------------------\u001b[0m",
      "\u001b[1;31mValueError\u001b[0m                                Traceback (most recent call last)",
      "\u001b[1;32m<ipython-input-302-d4ab2c0f6299>\u001b[0m in \u001b[0;36m<module>\u001b[1;34m\u001b[0m\n\u001b[0;32m      3\u001b[0m \u001b[0mprofit\u001b[0m \u001b[1;33m=\u001b[0m \u001b[0mdf\u001b[0m\u001b[1;33m[\u001b[0m\u001b[1;34m'revenue'\u001b[0m\u001b[1;33m]\u001b[0m \u001b[1;33m-\u001b[0m \u001b[0mdf\u001b[0m\u001b[1;33m[\u001b[0m\u001b[1;34m'budget'\u001b[0m\u001b[1;33m]\u001b[0m\u001b[1;33m\u001b[0m\u001b[1;33m\u001b[0m\u001b[0m\n\u001b[0;32m      4\u001b[0m \u001b[1;33m\u001b[0m\u001b[0m\n\u001b[1;32m----> 5\u001b[1;33m \u001b[0mdf\u001b[0m\u001b[1;33m.\u001b[0m\u001b[0minsert\u001b[0m \u001b[1;33m(\u001b[0m\u001b[1;36m5\u001b[0m\u001b[1;33m,\u001b[0m \u001b[1;34m\"profit\"\u001b[0m\u001b[1;33m,\u001b[0m \u001b[0mprofit\u001b[0m\u001b[1;33m)\u001b[0m\u001b[1;33m\u001b[0m\u001b[1;33m\u001b[0m\u001b[0m\n\u001b[0m\u001b[0;32m      6\u001b[0m \u001b[1;33m\u001b[0m\u001b[0m\n\u001b[0;32m      7\u001b[0m \u001b[0mdf\u001b[0m\u001b[1;33m.\u001b[0m\u001b[0mhead\u001b[0m\u001b[1;33m(\u001b[0m\u001b[1;36m3\u001b[0m\u001b[1;33m)\u001b[0m\u001b[1;33m\u001b[0m\u001b[1;33m\u001b[0m\u001b[0m\n",
      "\u001b[1;32m~\\anaconda3\\envs\\learn-env\\lib\\site-packages\\pandas\\core\\frame.py\u001b[0m in \u001b[0;36minsert\u001b[1;34m(self, loc, column, value, allow_duplicates)\u001b[0m\n\u001b[0;32m   3622\u001b[0m         \u001b[0mself\u001b[0m\u001b[1;33m.\u001b[0m\u001b[0m_ensure_valid_index\u001b[0m\u001b[1;33m(\u001b[0m\u001b[0mvalue\u001b[0m\u001b[1;33m)\u001b[0m\u001b[1;33m\u001b[0m\u001b[1;33m\u001b[0m\u001b[0m\n\u001b[0;32m   3623\u001b[0m         \u001b[0mvalue\u001b[0m \u001b[1;33m=\u001b[0m \u001b[0mself\u001b[0m\u001b[1;33m.\u001b[0m\u001b[0m_sanitize_column\u001b[0m\u001b[1;33m(\u001b[0m\u001b[0mcolumn\u001b[0m\u001b[1;33m,\u001b[0m \u001b[0mvalue\u001b[0m\u001b[1;33m,\u001b[0m \u001b[0mbroadcast\u001b[0m\u001b[1;33m=\u001b[0m\u001b[1;32mFalse\u001b[0m\u001b[1;33m)\u001b[0m\u001b[1;33m\u001b[0m\u001b[1;33m\u001b[0m\u001b[0m\n\u001b[1;32m-> 3624\u001b[1;33m         \u001b[0mself\u001b[0m\u001b[1;33m.\u001b[0m\u001b[0m_mgr\u001b[0m\u001b[1;33m.\u001b[0m\u001b[0minsert\u001b[0m\u001b[1;33m(\u001b[0m\u001b[0mloc\u001b[0m\u001b[1;33m,\u001b[0m \u001b[0mcolumn\u001b[0m\u001b[1;33m,\u001b[0m \u001b[0mvalue\u001b[0m\u001b[1;33m,\u001b[0m \u001b[0mallow_duplicates\u001b[0m\u001b[1;33m=\u001b[0m\u001b[0mallow_duplicates\u001b[0m\u001b[1;33m)\u001b[0m\u001b[1;33m\u001b[0m\u001b[1;33m\u001b[0m\u001b[0m\n\u001b[0m\u001b[0;32m   3625\u001b[0m \u001b[1;33m\u001b[0m\u001b[0m\n\u001b[0;32m   3626\u001b[0m     \u001b[1;32mdef\u001b[0m \u001b[0massign\u001b[0m\u001b[1;33m(\u001b[0m\u001b[0mself\u001b[0m\u001b[1;33m,\u001b[0m \u001b[1;33m**\u001b[0m\u001b[0mkwargs\u001b[0m\u001b[1;33m)\u001b[0m \u001b[1;33m->\u001b[0m \u001b[1;34m\"DataFrame\"\u001b[0m\u001b[1;33m:\u001b[0m\u001b[1;33m\u001b[0m\u001b[1;33m\u001b[0m\u001b[0m\n",
      "\u001b[1;32m~\\anaconda3\\envs\\learn-env\\lib\\site-packages\\pandas\\core\\internals\\managers.py\u001b[0m in \u001b[0;36minsert\u001b[1;34m(self, loc, item, value, allow_duplicates)\u001b[0m\n\u001b[0;32m   1175\u001b[0m         \u001b[1;32mif\u001b[0m \u001b[1;32mnot\u001b[0m \u001b[0mallow_duplicates\u001b[0m \u001b[1;32mand\u001b[0m \u001b[0mitem\u001b[0m \u001b[1;32min\u001b[0m \u001b[0mself\u001b[0m\u001b[1;33m.\u001b[0m\u001b[0mitems\u001b[0m\u001b[1;33m:\u001b[0m\u001b[1;33m\u001b[0m\u001b[1;33m\u001b[0m\u001b[0m\n\u001b[0;32m   1176\u001b[0m             \u001b[1;31m# Should this be a different kind of error??\u001b[0m\u001b[1;33m\u001b[0m\u001b[1;33m\u001b[0m\u001b[1;33m\u001b[0m\u001b[0m\n\u001b[1;32m-> 1177\u001b[1;33m             \u001b[1;32mraise\u001b[0m \u001b[0mValueError\u001b[0m\u001b[1;33m(\u001b[0m\u001b[1;34mf\"cannot insert {item}, already exists\"\u001b[0m\u001b[1;33m)\u001b[0m\u001b[1;33m\u001b[0m\u001b[1;33m\u001b[0m\u001b[0m\n\u001b[0m\u001b[0;32m   1178\u001b[0m \u001b[1;33m\u001b[0m\u001b[0m\n\u001b[0;32m   1179\u001b[0m         \u001b[1;32mif\u001b[0m \u001b[1;32mnot\u001b[0m \u001b[0misinstance\u001b[0m\u001b[1;33m(\u001b[0m\u001b[0mloc\u001b[0m\u001b[1;33m,\u001b[0m \u001b[0mint\u001b[0m\u001b[1;33m)\u001b[0m\u001b[1;33m:\u001b[0m\u001b[1;33m\u001b[0m\u001b[1;33m\u001b[0m\u001b[0m\n",
      "\u001b[1;31mValueError\u001b[0m: cannot insert profit, already exists"
     ]
    }
   ],
   "source": [
    "# insert column tip from: https://discuss.codecademy.com/t/can-we-add-a-new-column-at-a-specific-position-in-a-pandas-dataframe/355842/2\n",
    "\n",
    "profit = df['revenue'] - df['budget']\n",
    "\n",
    "df.insert (5, \"profit\", profit)\n",
    "\n",
    "df.head(3)"
   ]
  },
  {
   "cell_type": "markdown",
   "metadata": {},
   "source": [
    "Next we'll make a column that tells us whether or not the movie was a success or a flop.  We will answer whether or not a movie is successful with a 'Yes' or a 'No.'"
   ]
  },
  {
   "cell_type": "code",
   "execution_count": 303,
   "metadata": {},
   "outputs": [
    {
     "data": {
      "text/html": [
       "<div>\n",
       "<style scoped>\n",
       "    .dataframe tbody tr th:only-of-type {\n",
       "        vertical-align: middle;\n",
       "    }\n",
       "\n",
       "    .dataframe tbody tr th {\n",
       "        vertical-align: top;\n",
       "    }\n",
       "\n",
       "    .dataframe thead th {\n",
       "        text-align: right;\n",
       "    }\n",
       "</style>\n",
       "<table border=\"1\" class=\"dataframe\">\n",
       "  <thead>\n",
       "    <tr style=\"text-align: right;\">\n",
       "      <th></th>\n",
       "      <th>release_date</th>\n",
       "      <th>original_title</th>\n",
       "      <th>id</th>\n",
       "      <th>budget</th>\n",
       "      <th>revenue</th>\n",
       "      <th>successful</th>\n",
       "      <th>profit</th>\n",
       "      <th>mpaa_rating</th>\n",
       "      <th>genres</th>\n",
       "      <th>popularity</th>\n",
       "      <th>vote_average</th>\n",
       "      <th>vote_count</th>\n",
       "      <th>runtime</th>\n",
       "      <th>production_companies</th>\n",
       "    </tr>\n",
       "  </thead>\n",
       "  <tbody>\n",
       "    <tr>\n",
       "      <th>0</th>\n",
       "      <td>4/25/2012</td>\n",
       "      <td>The Avengers</td>\n",
       "      <td>24428</td>\n",
       "      <td>220000000</td>\n",
       "      <td>1518815515</td>\n",
       "      <td>Yes</td>\n",
       "      <td>1298815515</td>\n",
       "      <td>PG-13</td>\n",
       "      <td>[{'id': 878, 'name': 'Science Fiction'}, {'id'...</td>\n",
       "      <td>151.095</td>\n",
       "      <td>7.7</td>\n",
       "      <td>24252</td>\n",
       "      <td>143.0</td>\n",
       "      <td>[{'id': 420, 'logo_path': '/hUzeosd33nzE5MCNsZ...</td>\n",
       "    </tr>\n",
       "    <tr>\n",
       "      <th>1</th>\n",
       "      <td>11/13/2012</td>\n",
       "      <td>The Twilight Saga: Breaking Dawn - Part 2</td>\n",
       "      <td>50620</td>\n",
       "      <td>120000000</td>\n",
       "      <td>829000000</td>\n",
       "      <td>Yes</td>\n",
       "      <td>709000000</td>\n",
       "      <td>PG-13</td>\n",
       "      <td>[{'id': 12, 'name': 'Adventure'}, {'id': 14, '...</td>\n",
       "      <td>73.226</td>\n",
       "      <td>6.5</td>\n",
       "      <td>6978</td>\n",
       "      <td>115.0</td>\n",
       "      <td>[{'id': 491, 'logo_path': '/rUp0lLKa1pr4UsPm8f...</td>\n",
       "    </tr>\n",
       "    <tr>\n",
       "      <th>2</th>\n",
       "      <td>11/1/2012</td>\n",
       "      <td>Wreck-It Ralph</td>\n",
       "      <td>82690</td>\n",
       "      <td>165000000</td>\n",
       "      <td>471222889</td>\n",
       "      <td>Yes</td>\n",
       "      <td>306222889</td>\n",
       "      <td>PG</td>\n",
       "      <td>[{'id': 10751, 'name': 'Family'}, {'id': 16, '...</td>\n",
       "      <td>70.213</td>\n",
       "      <td>7.3</td>\n",
       "      <td>9690</td>\n",
       "      <td>101.0</td>\n",
       "      <td>[{'id': 6125, 'logo_path': '/tVPmo07IHhBs4Huil...</td>\n",
       "    </tr>\n",
       "  </tbody>\n",
       "</table>\n",
       "</div>"
      ],
      "text/plain": [
       "  release_date                             original_title     id     budget  \\\n",
       "0    4/25/2012                               The Avengers  24428  220000000   \n",
       "1   11/13/2012  The Twilight Saga: Breaking Dawn - Part 2  50620  120000000   \n",
       "2    11/1/2012                             Wreck-It Ralph  82690  165000000   \n",
       "\n",
       "      revenue successful      profit mpaa_rating  \\\n",
       "0  1518815515        Yes  1298815515       PG-13   \n",
       "1   829000000        Yes   709000000       PG-13   \n",
       "2   471222889        Yes   306222889          PG   \n",
       "\n",
       "                                              genres  popularity  \\\n",
       "0  [{'id': 878, 'name': 'Science Fiction'}, {'id'...     151.095   \n",
       "1  [{'id': 12, 'name': 'Adventure'}, {'id': 14, '...      73.226   \n",
       "2  [{'id': 10751, 'name': 'Family'}, {'id': 16, '...      70.213   \n",
       "\n",
       "   vote_average  vote_count  runtime  \\\n",
       "0           7.7       24252    143.0   \n",
       "1           6.5        6978    115.0   \n",
       "2           7.3        9690    101.0   \n",
       "\n",
       "                                production_companies  \n",
       "0  [{'id': 420, 'logo_path': '/hUzeosd33nzE5MCNsZ...  \n",
       "1  [{'id': 491, 'logo_path': '/rUp0lLKa1pr4UsPm8f...  \n",
       "2  [{'id': 6125, 'logo_path': '/tVPmo07IHhBs4Huil...  "
      ]
     },
     "execution_count": 303,
     "metadata": {},
     "output_type": "execute_result"
    }
   ],
   "source": [
    "# https://stackoverflow.com/questions/56990755/how-to-create-a-boolean-column-depending-on-positive-or-negative-values-of-anoth      \n",
    "\n",
    "\n",
    "successful = np.where(df[\"profit\"] >= 0, 'Yes', 'No')\n",
    "\n",
    "df.insert (5, \"successful\", successful)\n",
    "\n",
    "df.head(3)"
   ]
  },
  {
   "cell_type": "markdown",
   "metadata": {},
   "source": [
    "And we'll check to make sure we answered for every movie."
   ]
  },
  {
   "cell_type": "code",
   "execution_count": 304,
   "metadata": {},
   "outputs": [
    {
     "data": {
      "text/plain": [
       "array(['Yes', 'No'], dtype=object)"
      ]
     },
     "execution_count": 304,
     "metadata": {},
     "output_type": "execute_result"
    }
   ],
   "source": [
    "df['successful'].unique()"
   ]
  },
  {
   "cell_type": "markdown",
   "metadata": {},
   "source": [
    "Finally, we'll visualize our findings with a Seaborn regression model.  This will show us the dispersion of budget and revenue for our dataset.  Also, we will colorize the successes and flops so that they're easy to distinguish."
   ]
  },
  {
   "cell_type": "code",
   "execution_count": 305,
   "metadata": {},
   "outputs": [
    {
     "data": {
      "image/png": "[encoded data removed]",
      "text/plain": [
       "<Figure size 1080x1080 with 1 Axes>"
      ]
     },
     "metadata": {},
     "output_type": "display_data"
    }
   ],
   "source": [
    "import seaborn as sns; sns.set_theme(color_codes=True)\n",
    "\n",
    "\n",
    "# plt.figure(figsize=(16, 6))\n",
    "g = sns.lmplot(x=\"budget\", y=\"profit\", data=df, hue=\"successful\")\n",
    "\n",
    "g.fig.set_size_inches(15,15)\n",
    "\n",
    "g = g.set_axis_labels(\"Film Budget ($)\", \"Box Office Revenue ($)\").set(xlim=(0, 420000000), \n",
    "    ylim=(-200000000, 2600000000),\n",
    "    xticks=[0, 100000000, 200000000, 300000000, 400000000], \n",
    "    yticks=[0, 500000000, 1000000000, 1500000000, 2000000000, 2500000000])\n",
    "\n",
    "g.set_xticklabels(['$0', '$100 M', '$200 M','$300 M','$400 M'])\n",
    "g.set_yticklabels(['$0', '$500 M', '$1 B', '$1.5 B', '$2 B', '$2.5 B'])\n",
    "\n",
    "\n",
    "g._legend.set_title('Performance')\n",
    "\n",
    "\n",
    "plt.show()\n"
   ]
  },
  {
   "cell_type": "markdown",
   "metadata": {},
   "source": [
    "# Genres"
   ]
  },
  {
   "cell_type": "markdown",
   "metadata": {},
   "source": [
    "Our dataset also contains information on genres.  Each film can have one or multiple genres.  The column looks like a dictionary, but it is actually formatted as a string.  We will convert the strings to dictionaries, extract the genre names from the dictionaries, and replace every movie's genre value with a list of its genres."
   ]
  },
  {
   "cell_type": "code",
   "execution_count": 247,
   "metadata": {},
   "outputs": [
    {
     "data": {
      "text/html": [
       "<div>\n",
       "<style scoped>\n",
       "    .dataframe tbody tr th:only-of-type {\n",
       "        vertical-align: middle;\n",
       "    }\n",
       "\n",
       "    .dataframe tbody tr th {\n",
       "        vertical-align: top;\n",
       "    }\n",
       "\n",
       "    .dataframe thead th {\n",
       "        text-align: right;\n",
       "    }\n",
       "</style>\n",
       "<table border=\"1\" class=\"dataframe\">\n",
       "  <thead>\n",
       "    <tr style=\"text-align: right;\">\n",
       "      <th></th>\n",
       "      <th>release_date</th>\n",
       "      <th>original_title</th>\n",
       "      <th>id</th>\n",
       "      <th>budget</th>\n",
       "      <th>revenue</th>\n",
       "      <th>successful</th>\n",
       "      <th>profit</th>\n",
       "      <th>mpaa_rating</th>\n",
       "      <th>genres</th>\n",
       "      <th>popularity</th>\n",
       "      <th>vote_average</th>\n",
       "      <th>vote_count</th>\n",
       "      <th>runtime</th>\n",
       "      <th>production_companies</th>\n",
       "    </tr>\n",
       "  </thead>\n",
       "  <tbody>\n",
       "    <tr>\n",
       "      <th>0</th>\n",
       "      <td>4/25/2012</td>\n",
       "      <td>The Avengers</td>\n",
       "      <td>24428</td>\n",
       "      <td>220000000</td>\n",
       "      <td>1518815515</td>\n",
       "      <td>Success</td>\n",
       "      <td>1298815515</td>\n",
       "      <td>PG-13</td>\n",
       "      <td>[Science Fiction, Action, Adventure]</td>\n",
       "      <td>151.095</td>\n",
       "      <td>7.7</td>\n",
       "      <td>24252</td>\n",
       "      <td>143.0</td>\n",
       "      <td>[{'id': 420, 'logo_path': '/hUzeosd33nzE5MCNsZ...</td>\n",
       "    </tr>\n",
       "    <tr>\n",
       "      <th>1</th>\n",
       "      <td>11/13/2012</td>\n",
       "      <td>The Twilight Saga: Breaking Dawn - Part 2</td>\n",
       "      <td>50620</td>\n",
       "      <td>120000000</td>\n",
       "      <td>829000000</td>\n",
       "      <td>Success</td>\n",
       "      <td>709000000</td>\n",
       "      <td>PG-13</td>\n",
       "      <td>[Adventure, Fantasy, Drama, Romance]</td>\n",
       "      <td>73.226</td>\n",
       "      <td>6.5</td>\n",
       "      <td>6978</td>\n",
       "      <td>115.0</td>\n",
       "      <td>[{'id': 491, 'logo_path': '/rUp0lLKa1pr4UsPm8f...</td>\n",
       "    </tr>\n",
       "    <tr>\n",
       "      <th>2</th>\n",
       "      <td>11/1/2012</td>\n",
       "      <td>Wreck-It Ralph</td>\n",
       "      <td>82690</td>\n",
       "      <td>165000000</td>\n",
       "      <td>471222889</td>\n",
       "      <td>Success</td>\n",
       "      <td>306222889</td>\n",
       "      <td>PG</td>\n",
       "      <td>[Family, Animation, Comedy, Adventure]</td>\n",
       "      <td>70.213</td>\n",
       "      <td>7.3</td>\n",
       "      <td>9690</td>\n",
       "      <td>101.0</td>\n",
       "      <td>[{'id': 6125, 'logo_path': '/tVPmo07IHhBs4Huil...</td>\n",
       "    </tr>\n",
       "  </tbody>\n",
       "</table>\n",
       "</div>"
      ],
      "text/plain": [
       "  release_date                             original_title     id     budget  \\\n",
       "0    4/25/2012                               The Avengers  24428  220000000   \n",
       "1   11/13/2012  The Twilight Saga: Breaking Dawn - Part 2  50620  120000000   \n",
       "2    11/1/2012                             Wreck-It Ralph  82690  165000000   \n",
       "\n",
       "      revenue successful      profit mpaa_rating  \\\n",
       "0  1518815515    Success  1298815515       PG-13   \n",
       "1   829000000    Success   709000000       PG-13   \n",
       "2   471222889    Success   306222889          PG   \n",
       "\n",
       "                                   genres  popularity  vote_average  \\\n",
       "0    [Science Fiction, Action, Adventure]     151.095           7.7   \n",
       "1    [Adventure, Fantasy, Drama, Romance]      73.226           6.5   \n",
       "2  [Family, Animation, Comedy, Adventure]      70.213           7.3   \n",
       "\n",
       "   vote_count  runtime                               production_companies  \n",
       "0       24252    143.0  [{'id': 420, 'logo_path': '/hUzeosd33nzE5MCNsZ...  \n",
       "1        6978    115.0  [{'id': 491, 'logo_path': '/rUp0lLKa1pr4UsPm8f...  \n",
       "2        9690    101.0  [{'id': 6125, 'logo_path': '/tVPmo07IHhBs4Huil...  "
      ]
     },
     "execution_count": 247,
     "metadata": {},
     "output_type": "execute_result"
    }
   ],
   "source": [
    "df_genre_list = []\n",
    "\n",
    "for row in df['genres']:\n",
    "    row = list(eval(row))\n",
    "    row_genres = []\n",
    "    for item in row:\n",
    "        row_genres.append(item['name'])\n",
    "    \n",
    "    df_genre_list.append(row_genres)\n",
    "    \n",
    "df['genres'] = df_genre_list\n",
    "\n",
    "df.head(3)"
   ]
  },
  {
   "cell_type": "markdown",
   "metadata": {},
   "source": [
    "Next, we will use the pandas explode and groupby functions "
   ]
  },
  {
   "cell_type": "code",
   "execution_count": 248,
   "metadata": {},
   "outputs": [],
   "source": [
    "genre_mean_df = df.explode('genres').groupby('genres').mean().round()\n",
    "genre_median_df = df.explode('genres').groupby('genres').median().round()\n",
    "\n",
    "# reset index so that seaborn will work, will not work with columsn as index\n",
    "# genre_name = []\n",
    "\n",
    "genre = genre_mean_df.index\n",
    "\n",
    "genre_mean_df.reset_index(drop=True, inplace=True)\n",
    "genre_mean_df.insert (0, \"genre\", genre)\n",
    "\n",
    "genre_median_df.reset_index(drop=True, inplace=True)\n",
    "genre_median_df.insert (0, \"genre\", genre)"
   ]
  },
  {
   "cell_type": "code",
   "execution_count": 249,
   "metadata": {},
   "outputs": [
    {
     "data": {
      "text/html": [
       "<div>\n",
       "<style scoped>\n",
       "    .dataframe tbody tr th:only-of-type {\n",
       "        vertical-align: middle;\n",
       "    }\n",
       "\n",
       "    .dataframe tbody tr th {\n",
       "        vertical-align: top;\n",
       "    }\n",
       "\n",
       "    .dataframe thead th {\n",
       "        text-align: right;\n",
       "    }\n",
       "</style>\n",
       "<table border=\"1\" class=\"dataframe\">\n",
       "  <thead>\n",
       "    <tr style=\"text-align: right;\">\n",
       "      <th></th>\n",
       "      <th>genre</th>\n",
       "      <th>id</th>\n",
       "      <th>budget</th>\n",
       "      <th>revenue</th>\n",
       "      <th>profit</th>\n",
       "      <th>popularity</th>\n",
       "      <th>vote_average</th>\n",
       "      <th>vote_count</th>\n",
       "      <th>runtime</th>\n",
       "    </tr>\n",
       "  </thead>\n",
       "  <tbody>\n",
       "    <tr>\n",
       "      <th>0</th>\n",
       "      <td>Action</td>\n",
       "      <td>242281.0</td>\n",
       "      <td>83442070.0</td>\n",
       "      <td>275878015.0</td>\n",
       "      <td>192435944.0</td>\n",
       "      <td>54.0</td>\n",
       "      <td>6.0</td>\n",
       "      <td>4671.0</td>\n",
       "      <td>113.0</td>\n",
       "    </tr>\n",
       "    <tr>\n",
       "      <th>1</th>\n",
       "      <td>Adventure</td>\n",
       "      <td>240311.0</td>\n",
       "      <td>110242334.0</td>\n",
       "      <td>396482517.0</td>\n",
       "      <td>286240183.0</td>\n",
       "      <td>55.0</td>\n",
       "      <td>7.0</td>\n",
       "      <td>5549.0</td>\n",
       "      <td>113.0</td>\n",
       "    </tr>\n",
       "    <tr>\n",
       "      <th>2</th>\n",
       "      <td>Animation</td>\n",
       "      <td>248863.0</td>\n",
       "      <td>85701402.0</td>\n",
       "      <td>343391802.0</td>\n",
       "      <td>257690400.0</td>\n",
       "      <td>41.0</td>\n",
       "      <td>7.0</td>\n",
       "      <td>3422.0</td>\n",
       "      <td>95.0</td>\n",
       "    </tr>\n",
       "  </tbody>\n",
       "</table>\n",
       "</div>"
      ],
      "text/plain": [
       "       genre        id       budget      revenue       profit  popularity  \\\n",
       "0     Action  242281.0   83442070.0  275878015.0  192435944.0        54.0   \n",
       "1  Adventure  240311.0  110242334.0  396482517.0  286240183.0        55.0   \n",
       "2  Animation  248863.0   85701402.0  343391802.0  257690400.0        41.0   \n",
       "\n",
       "   vote_average  vote_count  runtime  \n",
       "0           6.0      4671.0    113.0  \n",
       "1           7.0      5549.0    113.0  \n",
       "2           7.0      3422.0     95.0  "
      ]
     },
     "execution_count": 249,
     "metadata": {},
     "output_type": "execute_result"
    }
   ],
   "source": [
    "genre_mean_df.head(3)"
   ]
  },
  {
   "cell_type": "code",
   "execution_count": 250,
   "metadata": {},
   "outputs": [
    {
     "data": {
      "text/html": [
       "<div>\n",
       "<style scoped>\n",
       "    .dataframe tbody tr th:only-of-type {\n",
       "        vertical-align: middle;\n",
       "    }\n",
       "\n",
       "    .dataframe tbody tr th {\n",
       "        vertical-align: top;\n",
       "    }\n",
       "\n",
       "    .dataframe thead th {\n",
       "        text-align: right;\n",
       "    }\n",
       "</style>\n",
       "<table border=\"1\" class=\"dataframe\">\n",
       "  <thead>\n",
       "    <tr style=\"text-align: right;\">\n",
       "      <th></th>\n",
       "      <th>genre</th>\n",
       "      <th>id</th>\n",
       "      <th>budget</th>\n",
       "      <th>revenue</th>\n",
       "      <th>profit</th>\n",
       "      <th>popularity</th>\n",
       "      <th>vote_average</th>\n",
       "      <th>vote_count</th>\n",
       "      <th>runtime</th>\n",
       "    </tr>\n",
       "  </thead>\n",
       "  <tbody>\n",
       "    <tr>\n",
       "      <th>0</th>\n",
       "      <td>Action</td>\n",
       "      <td>257344.0</td>\n",
       "      <td>60000000.0</td>\n",
       "      <td>133718711.0</td>\n",
       "      <td>68761661.0</td>\n",
       "      <td>36.0</td>\n",
       "      <td>6.0</td>\n",
       "      <td>3323.0</td>\n",
       "      <td>112.0</td>\n",
       "    </tr>\n",
       "    <tr>\n",
       "      <th>1</th>\n",
       "      <td>Adventure</td>\n",
       "      <td>261507.0</td>\n",
       "      <td>103000000.0</td>\n",
       "      <td>255825100.0</td>\n",
       "      <td>138622422.0</td>\n",
       "      <td>38.0</td>\n",
       "      <td>7.0</td>\n",
       "      <td>4052.0</td>\n",
       "      <td>110.0</td>\n",
       "    </tr>\n",
       "    <tr>\n",
       "      <th>2</th>\n",
       "      <td>Animation</td>\n",
       "      <td>261812.0</td>\n",
       "      <td>75000000.0</td>\n",
       "      <td>218349271.0</td>\n",
       "      <td>147401898.0</td>\n",
       "      <td>34.0</td>\n",
       "      <td>7.0</td>\n",
       "      <td>2096.0</td>\n",
       "      <td>93.0</td>\n",
       "    </tr>\n",
       "  </tbody>\n",
       "</table>\n",
       "</div>"
      ],
      "text/plain": [
       "       genre        id       budget      revenue       profit  popularity  \\\n",
       "0     Action  257344.0   60000000.0  133718711.0   68761661.0        36.0   \n",
       "1  Adventure  261507.0  103000000.0  255825100.0  138622422.0        38.0   \n",
       "2  Animation  261812.0   75000000.0  218349271.0  147401898.0        34.0   \n",
       "\n",
       "   vote_average  vote_count  runtime  \n",
       "0           6.0      3323.0    112.0  \n",
       "1           7.0      4052.0    110.0  \n",
       "2           7.0      2096.0     93.0  "
      ]
     },
     "execution_count": 250,
     "metadata": {},
     "output_type": "execute_result"
    }
   ],
   "source": [
    "genre_median_df.head(3)"
   ]
  },
  {
   "cell_type": "code",
   "execution_count": 251,
   "metadata": {
    "scrolled": true
   },
   "outputs": [
    {
     "data": {
      "image/png": "[encoded data removed]",
      "text/plain": [
       "<Figure size 1080x432 with 1 Axes>"
      ]
     },
     "metadata": {},
     "output_type": "display_data"
    }
   ],
   "source": [
    "data = genre_median_df\n",
    "\n",
    "# https://seaborn.pydata.org/examples/part_whole_bars.html\n",
    "import seaborn as sns\n",
    "import matplotlib.pyplot as plt\n",
    "sns.set_theme(style=\"whitegrid\")\n",
    "\n",
    "# Initialize the matplotlib figure\n",
    "f, ax = plt.subplots(figsize=(15, 6))\n",
    "\n",
    "# Plot the total crashes\n",
    "sns.set_color_codes(\"pastel\")\n",
    "\n",
    "sns.barplot(x=\"revenue\", y=\"genre\", data=data,\n",
    "            label=\"Total\", color=\"b\")\n",
    "\n",
    "# Plot the crashes where alcohol was involved\n",
    "sns.set_color_codes(\"muted\")\n",
    "sns.barplot(x=\"budget\", y=\"genre\", data=data,\n",
    "            label=\"Budget\", color=\"b\")\n",
    "\n",
    "# Add a legend and informative axis label\n",
    "ax.legend(ncol=2, loc=\"lower right\", frameon=True)\n",
    "ax.set(xlim=(-10000000, 250000000), ylabel=\"\",\n",
    "       xlabel=\"Automobile collisions per billion miles\")\n",
    "sns.despine(left=True, bottom=True)"
   ]
  },
  {
   "cell_type": "code",
   "execution_count": 252,
   "metadata": {},
   "outputs": [
    {
     "data": {
      "image/png": "[encoded data removed]",
      "text/plain": [
       "<Figure size 864x576 with 1 Axes>"
      ]
     },
     "metadata": {},
     "output_type": "display_data"
    }
   ],
   "source": [
    "# https://www.delftstack.com/howto/matplotlib/pandas-plot-multiple-columns-on-bar-chart-matplotlib/\n",
    "# https://stackoverflow.com/questions/28371674/prevent-scientific-notation-in-matplotlib-pyplot#:~:text=If%20you%20want%20to%20disable,False%2C%20style%3D'plain')%20.\n",
    "import pandas as pd \n",
    "import matplotlib.pyplot as plt \n",
    "\n",
    "\n",
    "data = genre_median_df\n",
    "data.plot(x=\"genre\", y=[\"budget\", \"revenue\"], kind=\"barh\",figsize=(12,8), legend='reverse')\n",
    "\n",
    "plt.legend(([\"Film Budget ($)\", \"Box Office Revenue ($)\"]))\n",
    "ax = plt.gca()\n",
    "ax.set_xticks([0, 50000000, 100000000, 150000000, 200000000, 250000000])\n",
    "ax.set_xticklabels(['$0', '$500 M', '$1 B', '$1.5 B', '$2 B', '$2.5 B'])\n",
    "\n",
    "plt.ylabel('Genre')\n",
    "plt.xlabel('Box Office Revenue ($)')\n",
    "\n",
    "ax.invert_yaxis()\n",
    "\n",
    "#     xticks=[0, 100000000, 200000000, 300000000, 400000000], \n",
    "#     yticks=[0, 500000000, 1000000000, 1500000000, 2000000000, 2500000000])\n",
    "\n",
    "# g.set_xticklabels(['$0', '$100 M', '$200 M','$300 M','$400 M'])\n",
    "# g.set_yticklabels(['$0', '$500 M', '$1 B', '$1.5 B', '$2 B', '$2.5 B'])\n",
    "\n",
    "# plt.ticklabel_format(style='plain', axis='x')\n",
    "\n",
    "plt.show()"
   ]
  },
  {
   "cell_type": "markdown",
   "metadata": {},
   "source": [
    "# Take aways"
   ]
  },
  {
   "cell_type": "code",
   "execution_count": 253,
   "metadata": {},
   "outputs": [
    {
     "data": {
      "text/plain": [
       "R        575\n",
       "PG-13    489\n",
       "PG       167\n",
       "NR        14\n",
       "G          9\n",
       "NC-17      1\n",
       "Name: mpaa_rating, dtype: int64"
      ]
     },
     "execution_count": 253,
     "metadata": {},
     "output_type": "execute_result"
    }
   ],
   "source": [
    "df.head()\n",
    "\n",
    "df['mpaa_rating'].value_counts()"
   ]
  },
  {
   "cell_type": "code",
   "execution_count": 262,
   "metadata": {},
   "outputs": [
    {
     "data": {
      "text/html": [
       "<div>\n",
       "<style scoped>\n",
       "    .dataframe tbody tr th:only-of-type {\n",
       "        vertical-align: middle;\n",
       "    }\n",
       "\n",
       "    .dataframe tbody tr th {\n",
       "        vertical-align: top;\n",
       "    }\n",
       "\n",
       "    .dataframe thead th {\n",
       "        text-align: right;\n",
       "    }\n",
       "</style>\n",
       "<table border=\"1\" class=\"dataframe\">\n",
       "  <thead>\n",
       "    <tr style=\"text-align: right;\">\n",
       "      <th></th>\n",
       "      <th>release_date</th>\n",
       "      <th>original_title</th>\n",
       "      <th>id</th>\n",
       "      <th>budget</th>\n",
       "      <th>revenue</th>\n",
       "      <th>successful</th>\n",
       "      <th>profit</th>\n",
       "      <th>mpaa_rating</th>\n",
       "      <th>genres</th>\n",
       "      <th>popularity</th>\n",
       "      <th>vote_average</th>\n",
       "      <th>vote_count</th>\n",
       "      <th>runtime</th>\n",
       "      <th>production_companies</th>\n",
       "      <th>ROI</th>\n",
       "    </tr>\n",
       "  </thead>\n",
       "  <tbody>\n",
       "    <tr>\n",
       "      <th>0</th>\n",
       "      <td>4/25/2012</td>\n",
       "      <td>The Avengers</td>\n",
       "      <td>24428</td>\n",
       "      <td>220000000</td>\n",
       "      <td>1518815515</td>\n",
       "      <td>Success</td>\n",
       "      <td>1298815515</td>\n",
       "      <td>PG-13</td>\n",
       "      <td>[Science Fiction, Action, Adventure]</td>\n",
       "      <td>151.095</td>\n",
       "      <td>7.7</td>\n",
       "      <td>24252</td>\n",
       "      <td>143.0</td>\n",
       "      <td>[{'id': 420, 'logo_path': '/hUzeosd33nzE5MCNsZ...</td>\n",
       "      <td>590.370689</td>\n",
       "    </tr>\n",
       "    <tr>\n",
       "      <th>1</th>\n",
       "      <td>11/13/2012</td>\n",
       "      <td>The Twilight Saga: Breaking Dawn - Part 2</td>\n",
       "      <td>50620</td>\n",
       "      <td>120000000</td>\n",
       "      <td>829000000</td>\n",
       "      <td>Success</td>\n",
       "      <td>709000000</td>\n",
       "      <td>PG-13</td>\n",
       "      <td>[Adventure, Fantasy, Drama, Romance]</td>\n",
       "      <td>73.226</td>\n",
       "      <td>6.5</td>\n",
       "      <td>6978</td>\n",
       "      <td>115.0</td>\n",
       "      <td>[{'id': 491, 'logo_path': '/rUp0lLKa1pr4UsPm8f...</td>\n",
       "      <td>590.833333</td>\n",
       "    </tr>\n",
       "    <tr>\n",
       "      <th>2</th>\n",
       "      <td>11/1/2012</td>\n",
       "      <td>Wreck-It Ralph</td>\n",
       "      <td>82690</td>\n",
       "      <td>165000000</td>\n",
       "      <td>471222889</td>\n",
       "      <td>Success</td>\n",
       "      <td>306222889</td>\n",
       "      <td>PG</td>\n",
       "      <td>[Family, Animation, Comedy, Adventure]</td>\n",
       "      <td>70.213</td>\n",
       "      <td>7.3</td>\n",
       "      <td>9690</td>\n",
       "      <td>101.0</td>\n",
       "      <td>[{'id': 6125, 'logo_path': '/tVPmo07IHhBs4Huil...</td>\n",
       "      <td>185.589630</td>\n",
       "    </tr>\n",
       "  </tbody>\n",
       "</table>\n",
       "</div>"
      ],
      "text/plain": [
       "  release_date                             original_title     id     budget  \\\n",
       "0    4/25/2012                               The Avengers  24428  220000000   \n",
       "1   11/13/2012  The Twilight Saga: Breaking Dawn - Part 2  50620  120000000   \n",
       "2    11/1/2012                             Wreck-It Ralph  82690  165000000   \n",
       "\n",
       "      revenue successful      profit mpaa_rating  \\\n",
       "0  1518815515    Success  1298815515       PG-13   \n",
       "1   829000000    Success   709000000       PG-13   \n",
       "2   471222889    Success   306222889          PG   \n",
       "\n",
       "                                   genres  popularity  vote_average  \\\n",
       "0    [Science Fiction, Action, Adventure]     151.095           7.7   \n",
       "1    [Adventure, Fantasy, Drama, Romance]      73.226           6.5   \n",
       "2  [Family, Animation, Comedy, Adventure]      70.213           7.3   \n",
       "\n",
       "   vote_count  runtime                               production_companies  \\\n",
       "0       24252    143.0  [{'id': 420, 'logo_path': '/hUzeosd33nzE5MCNsZ...   \n",
       "1        6978    115.0  [{'id': 491, 'logo_path': '/rUp0lLKa1pr4UsPm8f...   \n",
       "2        9690    101.0  [{'id': 6125, 'logo_path': '/tVPmo07IHhBs4Huil...   \n",
       "\n",
       "          ROI  \n",
       "0  590.370689  \n",
       "1  590.833333  \n",
       "2  185.589630  "
      ]
     },
     "execution_count": 262,
     "metadata": {},
     "output_type": "execute_result"
    }
   ],
   "source": [
    "df['ROI'] = ((df['profit'] / df['budget']) * 100)\n",
    "\n",
    "df.head(3)"
   ]
  },
  {
   "cell_type": "code",
   "execution_count": 263,
   "metadata": {},
   "outputs": [
    {
     "data": {
      "image/png": "[encoded data removed]",
      "text/plain": [
       "<Figure size 432x288 with 1 Axes>"
      ]
     },
     "metadata": {},
     "output_type": "display_data"
    }
   ],
   "source": [
    "rating_order = ['G', 'PG', 'PG-13', 'R', 'NR']\n",
    "\n",
    "sns.countplot(data = df, x = 'mpaa_rating', order = rating_order)\n",
    "\n",
    "plt.show()"
   ]
  },
  {
   "cell_type": "code",
   "execution_count": 264,
   "metadata": {},
   "outputs": [],
   "source": [
    "mpaa_mean_df = df.groupby('mpaa_rating').mean()\n",
    "\n",
    "mpaa_median_df = df.groupby('mpaa_rating').median()\n",
    "\n",
    "\n",
    "rating = mpaa_mean_df.index\n",
    "\n",
    "mpaa_mean_df.reset_index(drop=False, inplace=True)\n",
    "# genre_mean_df.insert (0, \"genre\", genre)\n",
    "\n",
    "mpaa_median_df.reset_index(drop=False, inplace=True)\n",
    "# genre_median_df.insert (0, \"genre\", genre)"
   ]
  },
  {
   "cell_type": "code",
   "execution_count": 265,
   "metadata": {},
   "outputs": [
    {
     "data": {
      "text/html": [
       "<div>\n",
       "<style scoped>\n",
       "    .dataframe tbody tr th:only-of-type {\n",
       "        vertical-align: middle;\n",
       "    }\n",
       "\n",
       "    .dataframe tbody tr th {\n",
       "        vertical-align: top;\n",
       "    }\n",
       "\n",
       "    .dataframe thead th {\n",
       "        text-align: right;\n",
       "    }\n",
       "</style>\n",
       "<table border=\"1\" class=\"dataframe\">\n",
       "  <thead>\n",
       "    <tr style=\"text-align: right;\">\n",
       "      <th></th>\n",
       "      <th>mpaa_rating</th>\n",
       "      <th>id</th>\n",
       "      <th>budget</th>\n",
       "      <th>revenue</th>\n",
       "      <th>profit</th>\n",
       "      <th>popularity</th>\n",
       "      <th>vote_average</th>\n",
       "      <th>vote_count</th>\n",
       "      <th>runtime</th>\n",
       "      <th>ROI</th>\n",
       "    </tr>\n",
       "  </thead>\n",
       "  <tbody>\n",
       "    <tr>\n",
       "      <th>0</th>\n",
       "      <td>G</td>\n",
       "      <td>209292.555556</td>\n",
       "      <td>9.388889e+07</td>\n",
       "      <td>3.387722e+08</td>\n",
       "      <td>2.448833e+08</td>\n",
       "      <td>41.207889</td>\n",
       "      <td>6.666667</td>\n",
       "      <td>2635.111111</td>\n",
       "      <td>95.000000</td>\n",
       "      <td>156.135064</td>\n",
       "    </tr>\n",
       "    <tr>\n",
       "      <th>1</th>\n",
       "      <td>NC-17</td>\n",
       "      <td>292431.000000</td>\n",
       "      <td>3.000000e+06</td>\n",
       "      <td>2.490830e+05</td>\n",
       "      <td>-2.750917e+06</td>\n",
       "      <td>12.515000</td>\n",
       "      <td>6.300000</td>\n",
       "      <td>1602.000000</td>\n",
       "      <td>134.000000</td>\n",
       "      <td>-91.697233</td>\n",
       "    </tr>\n",
       "    <tr>\n",
       "      <th>2</th>\n",
       "      <td>NR</td>\n",
       "      <td>264686.142857</td>\n",
       "      <td>8.892857e+06</td>\n",
       "      <td>5.529222e+06</td>\n",
       "      <td>-3.363635e+06</td>\n",
       "      <td>14.560500</td>\n",
       "      <td>6.300000</td>\n",
       "      <td>765.642857</td>\n",
       "      <td>100.214286</td>\n",
       "      <td>-4.304487</td>\n",
       "    </tr>\n",
       "    <tr>\n",
       "      <th>3</th>\n",
       "      <td>PG</td>\n",
       "      <td>262792.179641</td>\n",
       "      <td>7.438131e+07</td>\n",
       "      <td>2.775577e+08</td>\n",
       "      <td>2.031764e+08</td>\n",
       "      <td>34.764533</td>\n",
       "      <td>6.625749</td>\n",
       "      <td>2965.101796</td>\n",
       "      <td>101.586826</td>\n",
       "      <td>283.903548</td>\n",
       "    </tr>\n",
       "    <tr>\n",
       "      <th>4</th>\n",
       "      <td>PG-13</td>\n",
       "      <td>245996.862986</td>\n",
       "      <td>6.483038e+07</td>\n",
       "      <td>2.221026e+08</td>\n",
       "      <td>1.572722e+08</td>\n",
       "      <td>41.435546</td>\n",
       "      <td>6.483436</td>\n",
       "      <td>3939.529652</td>\n",
       "      <td>113.145194</td>\n",
       "      <td>272.112563</td>\n",
       "    </tr>\n",
       "    <tr>\n",
       "      <th>5</th>\n",
       "      <td>R</td>\n",
       "      <td>261283.382609</td>\n",
       "      <td>2.531680e+07</td>\n",
       "      <td>7.608808e+07</td>\n",
       "      <td>5.077128e+07</td>\n",
       "      <td>29.847487</td>\n",
       "      <td>6.350087</td>\n",
       "      <td>2596.156522</td>\n",
       "      <td>109.721739</td>\n",
       "      <td>276.385744</td>\n",
       "    </tr>\n",
       "  </tbody>\n",
       "</table>\n",
       "</div>"
      ],
      "text/plain": [
       "  mpaa_rating             id        budget       revenue        profit  \\\n",
       "0           G  209292.555556  9.388889e+07  3.387722e+08  2.448833e+08   \n",
       "1       NC-17  292431.000000  3.000000e+06  2.490830e+05 -2.750917e+06   \n",
       "2          NR  264686.142857  8.892857e+06  5.529222e+06 -3.363635e+06   \n",
       "3          PG  262792.179641  7.438131e+07  2.775577e+08  2.031764e+08   \n",
       "4       PG-13  245996.862986  6.483038e+07  2.221026e+08  1.572722e+08   \n",
       "5           R  261283.382609  2.531680e+07  7.608808e+07  5.077128e+07   \n",
       "\n",
       "   popularity  vote_average   vote_count     runtime         ROI  \n",
       "0   41.207889      6.666667  2635.111111   95.000000  156.135064  \n",
       "1   12.515000      6.300000  1602.000000  134.000000  -91.697233  \n",
       "2   14.560500      6.300000   765.642857  100.214286   -4.304487  \n",
       "3   34.764533      6.625749  2965.101796  101.586826  283.903548  \n",
       "4   41.435546      6.483436  3939.529652  113.145194  272.112563  \n",
       "5   29.847487      6.350087  2596.156522  109.721739  276.385744  "
      ]
     },
     "execution_count": 265,
     "metadata": {},
     "output_type": "execute_result"
    }
   ],
   "source": [
    "mpaa_mean_df"
   ]
  },
  {
   "cell_type": "code",
   "execution_count": 266,
   "metadata": {},
   "outputs": [
    {
     "data": {
      "text/html": [
       "<div>\n",
       "<style scoped>\n",
       "    .dataframe tbody tr th:only-of-type {\n",
       "        vertical-align: middle;\n",
       "    }\n",
       "\n",
       "    .dataframe tbody tr th {\n",
       "        vertical-align: top;\n",
       "    }\n",
       "\n",
       "    .dataframe thead th {\n",
       "        text-align: right;\n",
       "    }\n",
       "</style>\n",
       "<table border=\"1\" class=\"dataframe\">\n",
       "  <thead>\n",
       "    <tr style=\"text-align: right;\">\n",
       "      <th></th>\n",
       "      <th>mpaa_rating</th>\n",
       "      <th>id</th>\n",
       "      <th>budget</th>\n",
       "      <th>revenue</th>\n",
       "      <th>profit</th>\n",
       "      <th>popularity</th>\n",
       "      <th>vote_average</th>\n",
       "      <th>vote_count</th>\n",
       "      <th>runtime</th>\n",
       "      <th>ROI</th>\n",
       "    </tr>\n",
       "  </thead>\n",
       "  <tbody>\n",
       "    <tr>\n",
       "      <th>0</th>\n",
       "      <td>G</td>\n",
       "      <td>202575.0</td>\n",
       "      <td>99000000.0</td>\n",
       "      <td>246233113.0</td>\n",
       "      <td>147233113.0</td>\n",
       "      <td>27.467</td>\n",
       "      <td>6.80</td>\n",
       "      <td>1180.0</td>\n",
       "      <td>100.0</td>\n",
       "      <td>119.385872</td>\n",
       "    </tr>\n",
       "    <tr>\n",
       "      <th>1</th>\n",
       "      <td>NC-17</td>\n",
       "      <td>292431.0</td>\n",
       "      <td>3000000.0</td>\n",
       "      <td>249083.0</td>\n",
       "      <td>-2750917.0</td>\n",
       "      <td>12.515</td>\n",
       "      <td>6.30</td>\n",
       "      <td>1602.0</td>\n",
       "      <td>134.0</td>\n",
       "      <td>-91.697233</td>\n",
       "    </tr>\n",
       "    <tr>\n",
       "      <th>2</th>\n",
       "      <td>NR</td>\n",
       "      <td>249149.0</td>\n",
       "      <td>8000000.0</td>\n",
       "      <td>755689.0</td>\n",
       "      <td>-5410070.5</td>\n",
       "      <td>13.237</td>\n",
       "      <td>6.25</td>\n",
       "      <td>479.5</td>\n",
       "      <td>101.0</td>\n",
       "      <td>-58.370360</td>\n",
       "    </tr>\n",
       "    <tr>\n",
       "      <th>3</th>\n",
       "      <td>PG</td>\n",
       "      <td>267935.0</td>\n",
       "      <td>64000000.0</td>\n",
       "      <td>133821816.0</td>\n",
       "      <td>78695338.0</td>\n",
       "      <td>27.951</td>\n",
       "      <td>6.70</td>\n",
       "      <td>1633.0</td>\n",
       "      <td>99.0</td>\n",
       "      <td>173.237783</td>\n",
       "    </tr>\n",
       "    <tr>\n",
       "      <th>4</th>\n",
       "      <td>PG-13</td>\n",
       "      <td>254905.0</td>\n",
       "      <td>32000000.0</td>\n",
       "      <td>86165646.0</td>\n",
       "      <td>46788393.0</td>\n",
       "      <td>26.567</td>\n",
       "      <td>6.50</td>\n",
       "      <td>2327.0</td>\n",
       "      <td>111.0</td>\n",
       "      <td>146.060104</td>\n",
       "    </tr>\n",
       "    <tr>\n",
       "      <th>5</th>\n",
       "      <td>R</td>\n",
       "      <td>257785.0</td>\n",
       "      <td>18000000.0</td>\n",
       "      <td>31724284.0</td>\n",
       "      <td>10361137.0</td>\n",
       "      <td>20.420</td>\n",
       "      <td>6.40</td>\n",
       "      <td>1482.0</td>\n",
       "      <td>107.0</td>\n",
       "      <td>71.439092</td>\n",
       "    </tr>\n",
       "  </tbody>\n",
       "</table>\n",
       "</div>"
      ],
      "text/plain": [
       "  mpaa_rating        id      budget      revenue       profit  popularity  \\\n",
       "0           G  202575.0  99000000.0  246233113.0  147233113.0      27.467   \n",
       "1       NC-17  292431.0   3000000.0     249083.0   -2750917.0      12.515   \n",
       "2          NR  249149.0   8000000.0     755689.0   -5410070.5      13.237   \n",
       "3          PG  267935.0  64000000.0  133821816.0   78695338.0      27.951   \n",
       "4       PG-13  254905.0  32000000.0   86165646.0   46788393.0      26.567   \n",
       "5           R  257785.0  18000000.0   31724284.0   10361137.0      20.420   \n",
       "\n",
       "   vote_average  vote_count  runtime         ROI  \n",
       "0          6.80      1180.0    100.0  119.385872  \n",
       "1          6.30      1602.0    134.0  -91.697233  \n",
       "2          6.25       479.5    101.0  -58.370360  \n",
       "3          6.70      1633.0     99.0  173.237783  \n",
       "4          6.50      2327.0    111.0  146.060104  \n",
       "5          6.40      1482.0    107.0   71.439092  "
      ]
     },
     "execution_count": 266,
     "metadata": {},
     "output_type": "execute_result"
    }
   ],
   "source": [
    "mpaa_median_df"
   ]
  },
  {
   "cell_type": "code",
   "execution_count": 267,
   "metadata": {},
   "outputs": [
    {
     "data": {
      "image/png": "[encoded data removed]",
      "text/plain": [
       "<Figure size 432x288 with 1 Axes>"
      ]
     },
     "metadata": {},
     "output_type": "display_data"
    }
   ],
   "source": [
    "\n",
    "\n",
    "data = mpaa_median_df\n",
    "\n",
    "rating_order = ['G', 'PG', 'PG-13', 'R', 'NR']\n",
    "\n",
    "sns.barplot(data = data, x = 'mpaa_rating', y = 'ROI', order = rating_order)\n",
    "\n",
    "plt.show()"
   ]
  },
  {
   "cell_type": "code",
   "execution_count": 268,
   "metadata": {},
   "outputs": [
    {
     "data": {
      "image/png": "[encoded data removed]",
      "text/plain": [
       "<Figure size 432x288 with 1 Axes>"
      ]
     },
     "metadata": {},
     "output_type": "display_data"
    }
   ],
   "source": [
    "data = mpaa_mean_df\n",
    "\n",
    "rating_order = ['G', 'PG', 'PG-13', 'R', 'NR']\n",
    "\n",
    "sns.barplot(data = data, x = 'mpaa_rating', y = 'ROI', order = rating_order)\n",
    "\n",
    "plt.show()"
   ]
  },
  {
   "cell_type": "code",
   "execution_count": null,
   "metadata": {},
   "outputs": [],
   "source": []
  },
  {
   "cell_type": "code",
   "execution_count": null,
   "metadata": {},
   "outputs": [],
   "source": []
  },
  {
   "cell_type": "code",
   "execution_count": null,
   "metadata": {},
   "outputs": [],
   "source": []
  },
  {
   "cell_type": "code",
   "execution_count": null,
   "metadata": {},
   "outputs": [],
   "source": []
  }
 ],
 "metadata": {
  "kernelspec": {
   "display_name": "learn-env",
   "language": "python",
   "name": "learn-env"
  },
  "language_info": {
   "codemirror_mode": {
    "name": "ipython",
    "version": 3
   },
   "file_extension": ".py",
   "mimetype": "text/x-python",
   "name": "python",
   "nbconvert_exporter": "python",
   "pygments_lexer": "ipython3",
   "version": "3.8.5"
  },
  "toc": {
   "base_numbering": 1,
   "nav_menu": {},
   "number_sections": true,
   "sideBar": true,
   "skip_h1_title": false,
   "title_cell": "Table of Contents",
   "title_sidebar": "Contents",
   "toc_cell": false,
   "toc_position": {},
   "toc_section_display": true,
   "toc_window_display": false
  },
  "varInspector": {
   "cols": {
    "lenName": 16,
    "lenType": 16,
    "lenVar": 40
   },
   "kernels_config": {
    "python": {
     "delete_cmd_postfix": "",
     "delete_cmd_prefix": "del ",
     "library": "var_list.py",
     "varRefreshCmd": "print(var_dic_list())"
    },
    "r": {
     "delete_cmd_postfix": ") ",
     "delete_cmd_prefix": "rm(",
     "library": "var_list.r",
     "varRefreshCmd": "cat(var_dic_list()) "
    }
   },
   "types_to_exclude": [
    "module",
    "function",
    "builtin_function_or_method",
    "instance",
    "_Feature"
   ],
   "window_display": false
  }
 },
 "nbformat": 4,
 "nbformat_minor": 4
}
