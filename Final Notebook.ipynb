{
 "cells": [
  {
   "cell_type": "code",
   "execution_count": null,
   "metadata": {},
   "outputs": [],
   "source": [
    "### code taken from https://dev.to/m0nica/how-to-use-the-tmdb-api-to-find-films-with-the-highest-revenue-82p\n",
    "\n",
    "import requests # to make TMDB API calls\n",
    "import locale # to format currency as USD\n",
    "locale.setlocale( locale.LC_ALL, '' )\n",
    "\n",
    "import pandas as pd\n",
    "import matplotlib\n",
    "import matplotlib.pyplot as plt\n",
    "from matplotlib.ticker import FuncFormatter # to format currency on charts axis\n",
    "import seaborn as sns\n",
    "import glob as glob\n",
    "\n",
    "api_key = '64bc8db1ac9143a7dbb820d7d420ac96'\n",
    "\n",
    "scrape = False"
   ]
  },
  {
   "cell_type": "code",
   "execution_count": null,
   "metadata": {},
   "outputs": [],
   "source": []
  },
  {
   "cell_type": "code",
   "execution_count": null,
   "metadata": {},
   "outputs": [],
   "source": [
    "if scrape = True:\n",
    "\n",
    "    results = []\n",
    "\n",
    "    for year in [2012, 2013, 2014, 2015, 2016, 2017, 2018, 2019]:\n",
    "\n",
    "        page_number = 1\n",
    "\n",
    "        response = requests.get('https://api.themoviedb.org/3/discover/movie?api_key=' \n",
    "                                 +  api_key + '&page=' + str(page_number) + \n",
    "                                 '&with_original_language=en&primary_release_year=' + str(year) + '&with_release_type=3&with_runtime.gte=80')\n",
    "\n",
    "        total_pages = response.json()['total_pages']\n",
    "        # total_pages = 5\n",
    "\n",
    "        results.extend(response.json()['results'])\n",
    "\n",
    "        while page_number < total_pages:\n",
    "\n",
    "            page_number += 1\n",
    "\n",
    "            response = requests.get('https://api.themoviedb.org/3/discover/movie?api_key=' \n",
    "                                 +  api_key + '&page=' + str(page_number) + \n",
    "                                 '&with_original_language=en&primary_release_year=' + str(year) + '&with_release_type=3&with_runtime.gte=80')\n",
    "\n",
    "            results.extend(response.json()['results'])\n",
    "            \n",
    "else: print('Scrape is set to False.')"
   ]
  },
  {
   "cell_type": "code",
   "execution_count": null,
   "metadata": {},
   "outputs": [],
   "source": [
    "pip install tmdbsimple\n",
    "import tmdbsimple as tmdb\n",
    "tmdb.API_KEY = '64bc8db1ac9143a7dbb820d7d420ac96'"
   ]
  },
  {
   "cell_type": "code",
   "execution_count": null,
   "metadata": {},
   "outputs": [],
   "source": [
    "df = pd.DataFrame(results)\n",
    "\n",
    "df.head()"
   ]
  },
  {
   "cell_type": "code",
   "execution_count": null,
   "metadata": {},
   "outputs": [],
   "source": []
  },
  {
   "cell_type": "code",
   "execution_count": null,
   "metadata": {},
   "outputs": [],
   "source": [
    "if scrape = True:\n",
    "\n",
    "    df_ids = df['id']\n",
    "\n",
    "    full_movies = []\n",
    "\n",
    "    for idx in df_ids:\n",
    "        movie = tmdb.Movies(idx)\n",
    "\n",
    "        movie_dic = {}\n",
    "\n",
    "        movie_dic.update(movie.info())\n",
    "\n",
    "        movie.releases()\n",
    "        for c in movie.countries:\n",
    "            if c['iso_3166_1'] == 'US':\n",
    "                certification = c['certification']\n",
    "    #         else:\n",
    "    #             certification = 'None'\n",
    "\n",
    "        movie_dic.update({'mpaa_rating' : str(certification)})\n",
    "\n",
    "        full_movies.append(movie_dic)\n",
    "\n",
    "    df_full = pd.DataFrame(full_movies)\n",
    "\n",
    "    df_full.to_csv('2012-2019 FULL.csv')\n",
    "    \n",
    "else: print('Scrape is set to False.')\n",
    "    \n",
    "#### 293471 & 437584 didn't work, make sure to write how i worked around"
   ]
  },
  {
   "cell_type": "code",
   "execution_count": null,
   "metadata": {},
   "outputs": [],
   "source": [
    "#create function later\n",
    "# https://www.youtube.com/watch?v=ox_AHkeqNJ0&ab_channel=AbhishekAgarrwal\n",
    "\n",
    "df['production_budget'] = pd.to_numeric(df['production_budget'].replace('[^0-9\\.-]', '', regex=True))\n",
    "df['domestic_gross'] = pd.to_numeric(df['domestic_gross'].replace('[^0-9\\.-]', '', regex=True))\n",
    "df['worldwide_gross'] = pd.to_numeric(df['worldwide_gross'].replace('[^0-9\\.-]', '', regex=True))"
   ]
  },
  {
   "cell_type": "code",
   "execution_count": null,
   "metadata": {},
   "outputs": [],
   "source": [
    "df['gross_profit'] = df['worldwide_gross'] - df['production_budget']"
   ]
  },
  {
   "cell_type": "code",
   "execution_count": null,
   "metadata": {},
   "outputs": [],
   "source": [
    "fig, ax = plt.subplots()\n",
    "\n",
    "ax.scatter(df['production_budget'], df['gross_profit'])\n",
    "\n",
    "ax.xaxis.set_major_formatter('${x:1.0f}')\n",
    "ax.xaxis.set_tick_params(which='major', labelcolor='green',\n",
    "                         labelleft=True, labelright=False)\n",
    "ax.yaxis.set_major_formatter('${x:1.0f}')\n",
    "ax.yaxis.set_tick_params(which='major', labelcolor='green',\n",
    "                         labelleft=True, labelright=False)"
   ]
  },
  {
   "cell_type": "code",
   "execution_count": null,
   "metadata": {},
   "outputs": [],
   "source": [
    "sns.lmplot(data = df_m, x = \"production_budget\", y = \"net_profit\")\n",
    "plt.show()"
   ]
  },
  {
   "cell_type": "code",
   "execution_count": null,
   "metadata": {},
   "outputs": [],
   "source": []
  },
  {
   "cell_type": "code",
   "execution_count": null,
   "metadata": {},
   "outputs": [],
   "source": []
  },
  {
   "cell_type": "code",
   "execution_count": null,
   "metadata": {},
   "outputs": [],
   "source": []
  },
  {
   "cell_type": "code",
   "execution_count": null,
   "metadata": {},
   "outputs": [],
   "source": [
    "response = requests.get('https://api.themoviedb.org/3/genre/movie/list?api_key=' + api_key + '&language=en-US')\n",
    "\n",
    "# Action          28\n",
    "# Adventure       12\n",
    "# Animation       16\n",
    "# Comedy          35\n",
    "# Crime           80\n",
    "# Documentary     99\n",
    "# Drama           18\n",
    "# Family          10751\n",
    "# Fantasy         14\n",
    "# History         36\n",
    "# Horror          27\n",
    "# Music           10402\n",
    "# Mystery         9648\n",
    "# Romance         10749\n",
    "# Science Fiction 878\n",
    "# TV Movie        10770\n",
    "# Thriller        53\n",
    "# War             10752\n",
    "# Western         37\n",
    "\n",
    "# print(response.json()['genres'])\n",
    "print(response.json()['genres'][0])\n",
    "\n",
    "\n",
    "# case_list = {}\n",
    "# for entry in entries_list:\n",
    "#     case = {'key1': value, 'key2': value, 'key3':value }\n",
    "#     case_list.update(case)\n",
    "\n",
    "genre_dict = {}\n",
    "all_genres = []\n",
    "\n",
    "for genre in response.json()['genres']:\n",
    "    genre_add = {genre['id'] : genre['name']}\n",
    "    genre_dict.update(genre_add)\n",
    "    all_genres.append(genre['name'])\n",
    "print(genre_dict)\n",
    "print(all_genres)"
   ]
  },
  {
   "cell_type": "code",
   "execution_count": null,
   "metadata": {},
   "outputs": [],
   "source": [
    "genre_df = df"
   ]
  },
  {
   "cell_type": "code",
   "execution_count": null,
   "metadata": {},
   "outputs": [],
   "source": [
    "genre_list = []\n",
    "\n",
    "for row in genre_df['genre_ids']:\n",
    "    if row == '[]':\n",
    "        row = ['None']\n",
    "        genre_list.append(row)\n",
    "    else:\n",
    "        # https://stackoverflow.com/questions/19334374/python-converting-a-string-of-numbers-into-a-list-of-int\n",
    "        row = [int(s) for s in str(row).replace('[', '').replace(']', '').split(', ')] \n",
    "        row = [genre_dict[x] for x in row]\n",
    "\n",
    "        \n",
    "        genre_list.append(row)\n",
    "genre_list"
   ]
  },
  {
   "cell_type": "code",
   "execution_count": null,
   "metadata": {},
   "outputs": [],
   "source": [
    "df.explode('genre_ids').groupby('genre_ids').mean().round()"
   ]
  },
  {
   "cell_type": "code",
   "execution_count": null,
   "metadata": {},
   "outputs": [],
   "source": [
    "# https://futurestud.io/tutorials/matplotlib-stacked-bar-plots\n",
    "# the first call is as usual\n",
    "genre_name = all_genre_df['genre_name']\n",
    "production_budget_avg = all_genre_df['production_budget_avg']\n",
    "gross_profit_avg = all_genre_df['gross_profit_avg']\n",
    "\n",
    "plt.figure(figsize = (15,5))\n",
    "plt.barh(genre_name, production_budget_avg, color=\"#6c3376\") #average profit\n",
    "\n",
    "# the second one is special to create stacked bar plots\n",
    "plt.barh(genre_name, gross_profit_avg, left=production_budget_avg, color=\"#f3e151\")\n",
    "\n",
    "plt.xlabel('Year')  \n",
    "plt.ylabel('Number of futurestud.io Tutorials')\n",
    "\n",
    "plt.show()  "
   ]
  },
  {
   "cell_type": "code",
   "execution_count": null,
   "metadata": {},
   "outputs": [],
   "source": [
    "df['date'] = df['date'].astype(\"datetime64\")\n",
    "df['year'] = df['date'].dt.year\n",
    "df['month'] = df['date'].dt.month"
   ]
  },
  {
   "cell_type": "code",
   "execution_count": null,
   "metadata": {},
   "outputs": [],
   "source": [
    "#james in class\n",
    "\n",
    "df['year'].plot(kind=\"hist\")\n",
    "\n",
    "sns.countplot(data = df, x = 'year')\n",
    "\n"
   ]
  },
  {
   "cell_type": "code",
   "execution_count": null,
   "metadata": {},
   "outputs": [],
   "source": [
    "293471 & 437584"
   ]
  },
  {
   "cell_type": "code",
   "execution_count": null,
   "metadata": {},
   "outputs": [],
   "source": []
  },
  {
   "cell_type": "code",
   "execution_count": null,
   "metadata": {},
   "outputs": [],
   "source": []
  }
 ],
 "metadata": {
  "kernelspec": {
   "display_name": "Python 3",
   "language": "python",
   "name": "python3"
  },
  "language_info": {
   "codemirror_mode": {
    "name": "ipython",
    "version": 3
   },
   "file_extension": ".py",
   "mimetype": "text/x-python",
   "name": "python",
   "nbconvert_exporter": "python",
   "pygments_lexer": "ipython3",
   "version": "3.8.5"
  },
  "toc": {
   "base_numbering": 1,
   "nav_menu": {},
   "number_sections": true,
   "sideBar": true,
   "skip_h1_title": false,
   "title_cell": "Table of Contents",
   "title_sidebar": "Contents",
   "toc_cell": false,
   "toc_position": {},
   "toc_section_display": true,
   "toc_window_display": false
  },
  "varInspector": {
   "cols": {
    "lenName": 16,
    "lenType": 16,
    "lenVar": 40
   },
   "kernels_config": {
    "python": {
     "delete_cmd_postfix": "",
     "delete_cmd_prefix": "del ",
     "library": "var_list.py",
     "varRefreshCmd": "print(var_dic_list())"
    },
    "r": {
     "delete_cmd_postfix": ") ",
     "delete_cmd_prefix": "rm(",
     "library": "var_list.r",
     "varRefreshCmd": "cat(var_dic_list()) "
    }
   },
   "types_to_exclude": [
    "module",
    "function",
    "builtin_function_or_method",
    "instance",
    "_Feature"
   ],
   "window_display": false
  }
 },
 "nbformat": 4,
 "nbformat_minor": 4
}
